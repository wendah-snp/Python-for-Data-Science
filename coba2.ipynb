{
 "metadata": {
  "language_info": {
   "codemirror_mode": {
    "name": "ipython",
    "version": 3
   },
   "file_extension": ".py",
   "mimetype": "text/x-python",
   "name": "python",
   "nbconvert_exporter": "python",
   "pygments_lexer": "ipython3",
   "version": "3.9.2"
  },
  "orig_nbformat": 2,
  "kernelspec": {
   "name": "python3",
   "display_name": "Python 3.9.2 64-bit (windows store)",
   "metadata": {
    "interpreter": {
     "hash": "987cbd703dfba44d9b85abc3dca62ccaba18865537b5bf4fce303cb64e6f6229"
    }
   }
  }
 },
 "nbformat": 4,
 "nbformat_minor": 2,
 "cells": [
  {
   "cell_type": "code",
   "execution_count": 3,
   "metadata": {},
   "outputs": [],
   "source": [
    "import pandas as pd\n",
    "import numpy as np"
   ]
  },
  {
   "cell_type": "code",
   "execution_count": 18,
   "metadata": {},
   "outputs": [],
   "source": [
    "labels = ['c','d','e']\n",
    "my_list = [45,50,55]\n",
    "arr = np.array([15,25,35])\n",
    "dict_contoh = {'a':10,'b':20,'c':30}"
   ]
  },
  {
   "cell_type": "code",
   "execution_count": 19,
   "metadata": {},
   "outputs": [
    {
     "output_type": "execute_result",
     "data": {
      "text/plain": [
       "0    45\n",
       "1    50\n",
       "2    55\n",
       "dtype: int64"
      ]
     },
     "metadata": {},
     "execution_count": 19
    }
   ],
   "source": [
    "pd.Series(my_list)"
   ]
  },
  {
   "cell_type": "code",
   "execution_count": 20,
   "metadata": {},
   "outputs": [
    {
     "output_type": "execute_result",
     "data": {
      "text/plain": [
       "c    45\n",
       "d    50\n",
       "e    55\n",
       "dtype: int64"
      ]
     },
     "metadata": {},
     "execution_count": 20
    }
   ],
   "source": [
    "pd.Series(data=my_list, index=labels)"
   ]
  },
  {
   "cell_type": "code",
   "execution_count": 21,
   "metadata": {},
   "outputs": [
    {
     "output_type": "execute_result",
     "data": {
      "text/plain": [
       "c    45\n",
       "d    50\n",
       "e    55\n",
       "dtype: int64"
      ]
     },
     "metadata": {},
     "execution_count": 21
    }
   ],
   "source": [
    "pd.Series(my_list,labels)"
   ]
  },
  {
   "cell_type": "code",
   "execution_count": 22,
   "metadata": {},
   "outputs": [
    {
     "output_type": "execute_result",
     "data": {
      "text/plain": [
       "0    15\n",
       "1    25\n",
       "2    35\n",
       "dtype: int32"
      ]
     },
     "metadata": {},
     "execution_count": 22
    }
   ],
   "source": [
    "pd.Series(arr)"
   ]
  },
  {
   "cell_type": "code",
   "execution_count": 26,
   "metadata": {},
   "outputs": [
    {
     "output_type": "execute_result",
     "data": {
      "text/plain": [
       "c    15\n",
       "d    25\n",
       "e    35\n",
       "dtype: int32"
      ]
     },
     "metadata": {},
     "execution_count": 26
    }
   ],
   "source": [
    "pd.Series(arr,labels)"
   ]
  },
  {
   "cell_type": "code",
   "execution_count": 28,
   "metadata": {},
   "outputs": [
    {
     "output_type": "execute_result",
     "data": {
      "text/plain": [
       "a    10\n",
       "b    20\n",
       "c    30\n",
       "dtype: int64"
      ]
     },
     "metadata": {},
     "execution_count": 28
    }
   ],
   "source": [
    "pd.Series(dict_contoh)"
   ]
  },
  {
   "cell_type": "code",
   "execution_count": 29,
   "metadata": {},
   "outputs": [],
   "source": [
    "a = [i for i in range (2,10)]\n",
    "b = [i for i in range (12,20)]\n",
    "c = [i for i in range (22,30)]\n"
   ]
  },
  {
   "cell_type": "code",
   "execution_count": 30,
   "metadata": {},
   "outputs": [
    {
     "output_type": "execute_result",
     "data": {
      "text/plain": [
       "    d   e   f   g   h   i   j   k\n",
       "a   2   3   4   5   6   7   8   9\n",
       "b  12  13  14  15  16  17  18  19\n",
       "c  22  23  24  25  26  27  28  29"
      ],
      "text/html": "<div>\n<style scoped>\n    .dataframe tbody tr th:only-of-type {\n        vertical-align: middle;\n    }\n\n    .dataframe tbody tr th {\n        vertical-align: top;\n    }\n\n    .dataframe thead th {\n        text-align: right;\n    }\n</style>\n<table border=\"1\" class=\"dataframe\">\n  <thead>\n    <tr style=\"text-align: right;\">\n      <th></th>\n      <th>d</th>\n      <th>e</th>\n      <th>f</th>\n      <th>g</th>\n      <th>h</th>\n      <th>i</th>\n      <th>j</th>\n      <th>k</th>\n    </tr>\n  </thead>\n  <tbody>\n    <tr>\n      <th>a</th>\n      <td>2</td>\n      <td>3</td>\n      <td>4</td>\n      <td>5</td>\n      <td>6</td>\n      <td>7</td>\n      <td>8</td>\n      <td>9</td>\n    </tr>\n    <tr>\n      <th>b</th>\n      <td>12</td>\n      <td>13</td>\n      <td>14</td>\n      <td>15</td>\n      <td>16</td>\n      <td>17</td>\n      <td>18</td>\n      <td>19</td>\n    </tr>\n    <tr>\n      <th>c</th>\n      <td>22</td>\n      <td>23</td>\n      <td>24</td>\n      <td>25</td>\n      <td>26</td>\n      <td>27</td>\n      <td>28</td>\n      <td>29</td>\n    </tr>\n  </tbody>\n</table>\n</div>"
     },
     "metadata": {},
     "execution_count": 30
    }
   ],
   "source": [
    "pd.DataFrame(data=[a,b,c],index='a b c'.split(),columns='d e f g h i j k'.split())"
   ]
  },
  {
   "cell_type": "code",
   "execution_count": 31,
   "metadata": {},
   "outputs": [
    {
     "output_type": "execute_result",
     "data": {
      "text/plain": [
       "   a   b   c\n",
       "d  2  12  22\n",
       "e  3  13  23\n",
       "f  4  14  24\n",
       "g  5  15  25\n",
       "h  6  16  26\n",
       "i  7  17  27\n",
       "j  8  18  28\n",
       "k  9  19  29"
      ],
      "text/html": "<div>\n<style scoped>\n    .dataframe tbody tr th:only-of-type {\n        vertical-align: middle;\n    }\n\n    .dataframe tbody tr th {\n        vertical-align: top;\n    }\n\n    .dataframe thead th {\n        text-align: right;\n    }\n</style>\n<table border=\"1\" class=\"dataframe\">\n  <thead>\n    <tr style=\"text-align: right;\">\n      <th></th>\n      <th>a</th>\n      <th>b</th>\n      <th>c</th>\n    </tr>\n  </thead>\n  <tbody>\n    <tr>\n      <th>d</th>\n      <td>2</td>\n      <td>12</td>\n      <td>22</td>\n    </tr>\n    <tr>\n      <th>e</th>\n      <td>3</td>\n      <td>13</td>\n      <td>23</td>\n    </tr>\n    <tr>\n      <th>f</th>\n      <td>4</td>\n      <td>14</td>\n      <td>24</td>\n    </tr>\n    <tr>\n      <th>g</th>\n      <td>5</td>\n      <td>15</td>\n      <td>25</td>\n    </tr>\n    <tr>\n      <th>h</th>\n      <td>6</td>\n      <td>16</td>\n      <td>26</td>\n    </tr>\n    <tr>\n      <th>i</th>\n      <td>7</td>\n      <td>17</td>\n      <td>27</td>\n    </tr>\n    <tr>\n      <th>j</th>\n      <td>8</td>\n      <td>18</td>\n      <td>28</td>\n    </tr>\n    <tr>\n      <th>k</th>\n      <td>9</td>\n      <td>19</td>\n      <td>29</td>\n    </tr>\n  </tbody>\n</table>\n</div>"
     },
     "metadata": {},
     "execution_count": 31
    }
   ],
   "source": [
    "pd.DataFrame(data = list(zip(a,b,c)),index='d e f g h i j k'.split(),columns='a b c'.split())"
   ]
  },
  {
   "cell_type": "code",
   "execution_count": 32,
   "metadata": {},
   "outputs": [
    {
     "output_type": "execute_result",
     "data": {
      "text/plain": [
       "   e   f   g   h\n",
       "a  1   2   3   4\n",
       "b  5   6   7   8\n",
       "c  9  10  11  12"
      ],
      "text/html": "<div>\n<style scoped>\n    .dataframe tbody tr th:only-of-type {\n        vertical-align: middle;\n    }\n\n    .dataframe tbody tr th {\n        vertical-align: top;\n    }\n\n    .dataframe thead th {\n        text-align: right;\n    }\n</style>\n<table border=\"1\" class=\"dataframe\">\n  <thead>\n    <tr style=\"text-align: right;\">\n      <th></th>\n      <th>e</th>\n      <th>f</th>\n      <th>g</th>\n      <th>h</th>\n    </tr>\n  </thead>\n  <tbody>\n    <tr>\n      <th>a</th>\n      <td>1</td>\n      <td>2</td>\n      <td>3</td>\n      <td>4</td>\n    </tr>\n    <tr>\n      <th>b</th>\n      <td>5</td>\n      <td>6</td>\n      <td>7</td>\n      <td>8</td>\n    </tr>\n    <tr>\n      <th>c</th>\n      <td>9</td>\n      <td>10</td>\n      <td>11</td>\n      <td>12</td>\n    </tr>\n  </tbody>\n</table>\n</div>"
     },
     "metadata": {},
     "execution_count": 32
    }
   ],
   "source": [
    "my_list = [[1,2,3,4],[5,6,7,8],[9,10,11,12]]\n",
    "pd.DataFrame(my_list, index='a b c'.split(),columns='e f g h'.split())"
   ]
  },
  {
   "cell_type": "code",
   "execution_count": 38,
   "metadata": {},
   "outputs": [
    {
     "output_type": "execute_result",
     "data": {
      "text/plain": [
       "   a   b   c   d\n",
       "e  1   2   3   4\n",
       "f  5   6   7   8\n",
       "g  9  10  11  12"
      ],
      "text/html": "<div>\n<style scoped>\n    .dataframe tbody tr th:only-of-type {\n        vertical-align: middle;\n    }\n\n    .dataframe tbody tr th {\n        vertical-align: top;\n    }\n\n    .dataframe thead th {\n        text-align: right;\n    }\n</style>\n<table border=\"1\" class=\"dataframe\">\n  <thead>\n    <tr style=\"text-align: right;\">\n      <th></th>\n      <th>a</th>\n      <th>b</th>\n      <th>c</th>\n      <th>d</th>\n    </tr>\n  </thead>\n  <tbody>\n    <tr>\n      <th>e</th>\n      <td>1</td>\n      <td>2</td>\n      <td>3</td>\n      <td>4</td>\n    </tr>\n    <tr>\n      <th>f</th>\n      <td>5</td>\n      <td>6</td>\n      <td>7</td>\n      <td>8</td>\n    </tr>\n    <tr>\n      <th>g</th>\n      <td>9</td>\n      <td>10</td>\n      <td>11</td>\n      <td>12</td>\n    </tr>\n  </tbody>\n</table>\n</div>"
     },
     "metadata": {},
     "execution_count": 38
    }
   ],
   "source": [
    "pd.DataFrame(my_list,index='e f g'.split(),columns='a b c d'.split())"
   ]
  },
  {
   "cell_type": "code",
   "execution_count": 39,
   "metadata": {},
   "outputs": [],
   "source": [
    "from numpy.random import randn\n",
    "np.random.seed(101)"
   ]
  },
  {
   "cell_type": "code",
   "execution_count": 51,
   "metadata": {},
   "outputs": [],
   "source": [
    "df = pd.DataFrame(randn(6,5))"
   ]
  },
  {
   "cell_type": "code",
   "execution_count": 52,
   "metadata": {},
   "outputs": [
    {
     "output_type": "execute_result",
     "data": {
      "text/plain": [
       "          0         1         2         3         4\n",
       "0  0.586847 -1.621348  0.677535  0.026105 -1.678284\n",
       "1  0.333973 -0.532471  2.117727  0.197524  2.302987\n",
       "2  0.729024 -0.863091  0.305632  0.243178  0.864165\n",
       "3 -1.560931 -0.251897 -0.578120  0.236996  0.200780\n",
       "4  0.327845  0.674485 -0.174057  0.780140 -0.383258\n",
       "5 -0.409318  0.343539  0.196275 -0.982776  2.231555"
      ],
      "text/html": "<div>\n<style scoped>\n    .dataframe tbody tr th:only-of-type {\n        vertical-align: middle;\n    }\n\n    .dataframe tbody tr th {\n        vertical-align: top;\n    }\n\n    .dataframe thead th {\n        text-align: right;\n    }\n</style>\n<table border=\"1\" class=\"dataframe\">\n  <thead>\n    <tr style=\"text-align: right;\">\n      <th></th>\n      <th>0</th>\n      <th>1</th>\n      <th>2</th>\n      <th>3</th>\n      <th>4</th>\n    </tr>\n  </thead>\n  <tbody>\n    <tr>\n      <th>0</th>\n      <td>0.586847</td>\n      <td>-1.621348</td>\n      <td>0.677535</td>\n      <td>0.026105</td>\n      <td>-1.678284</td>\n    </tr>\n    <tr>\n      <th>1</th>\n      <td>0.333973</td>\n      <td>-0.532471</td>\n      <td>2.117727</td>\n      <td>0.197524</td>\n      <td>2.302987</td>\n    </tr>\n    <tr>\n      <th>2</th>\n      <td>0.729024</td>\n      <td>-0.863091</td>\n      <td>0.305632</td>\n      <td>0.243178</td>\n      <td>0.864165</td>\n    </tr>\n    <tr>\n      <th>3</th>\n      <td>-1.560931</td>\n      <td>-0.251897</td>\n      <td>-0.578120</td>\n      <td>0.236996</td>\n      <td>0.200780</td>\n    </tr>\n    <tr>\n      <th>4</th>\n      <td>0.327845</td>\n      <td>0.674485</td>\n      <td>-0.174057</td>\n      <td>0.780140</td>\n      <td>-0.383258</td>\n    </tr>\n    <tr>\n      <th>5</th>\n      <td>-0.409318</td>\n      <td>0.343539</td>\n      <td>0.196275</td>\n      <td>-0.982776</td>\n      <td>2.231555</td>\n    </tr>\n  </tbody>\n</table>\n</div>"
     },
     "metadata": {},
     "execution_count": 52
    }
   ],
   "source": [
    "df"
   ]
  },
  {
   "cell_type": "code",
   "execution_count": 45,
   "metadata": {},
   "outputs": [
    {
     "output_type": "execute_result",
     "data": {
      "text/plain": [
       "    a   b   c\n",
       "W  20  25  25\n",
       "X  30  35  26\n",
       "Y  40  45  27\n",
       "Z  50  55  28"
      ],
      "text/html": "<div>\n<style scoped>\n    .dataframe tbody tr th:only-of-type {\n        vertical-align: middle;\n    }\n\n    .dataframe tbody tr th {\n        vertical-align: top;\n    }\n\n    .dataframe thead th {\n        text-align: right;\n    }\n</style>\n<table border=\"1\" class=\"dataframe\">\n  <thead>\n    <tr style=\"text-align: right;\">\n      <th></th>\n      <th>a</th>\n      <th>b</th>\n      <th>c</th>\n    </tr>\n  </thead>\n  <tbody>\n    <tr>\n      <th>W</th>\n      <td>20</td>\n      <td>25</td>\n      <td>25</td>\n    </tr>\n    <tr>\n      <th>X</th>\n      <td>30</td>\n      <td>35</td>\n      <td>26</td>\n    </tr>\n    <tr>\n      <th>Y</th>\n      <td>40</td>\n      <td>45</td>\n      <td>27</td>\n    </tr>\n    <tr>\n      <th>Z</th>\n      <td>50</td>\n      <td>55</td>\n      <td>28</td>\n    </tr>\n  </tbody>\n</table>\n</div>"
     },
     "metadata": {},
     "execution_count": 45
    }
   ],
   "source": [
    "my_dict = {'a':[20,30,40,50],'b':[25,35,45,55],'c':[25,26,27,28]}\n",
    "pd.DataFrame(my_dict,index='W X Y Z'.split())"
   ]
  },
  {
   "cell_type": "code",
   "execution_count": null,
   "metadata": {},
   "outputs": [],
   "source": []
  }
 ]
}