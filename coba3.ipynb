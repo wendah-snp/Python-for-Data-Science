{
 "metadata": {
  "language_info": {
   "codemirror_mode": {
    "name": "ipython",
    "version": 3
   },
   "file_extension": ".py",
   "mimetype": "text/x-python",
   "name": "python",
   "nbconvert_exporter": "python",
   "pygments_lexer": "ipython3",
   "version": "3.9.2"
  },
  "orig_nbformat": 2,
  "kernelspec": {
   "name": "python3",
   "display_name": "Python 3.9.2 64-bit (windows store)",
   "metadata": {
    "interpreter": {
     "hash": "987cbd703dfba44d9b85abc3dca62ccaba18865537b5bf4fce303cb64e6f6229"
    }
   }
  }
 },
 "nbformat": 4,
 "nbformat_minor": 2,
 "cells": [
  {
   "cell_type": "code",
   "execution_count": 21,
   "metadata": {},
   "outputs": [],
   "source": [
    "import pandas as pd\n",
    "import numpy as np"
   ]
  },
  {
   "cell_type": "code",
   "execution_count": 36,
   "metadata": {},
   "outputs": [
    {
     "output_type": "execute_result",
     "data": {
      "text/plain": [
       "          0         1         2         3         4\n",
       "0  0.936806 -1.452849  1.741717  0.823227 -0.723457\n",
       "1 -0.339000  1.213192 -0.726898  0.270291  1.381437\n",
       "2  0.353481  0.469215  0.924276  0.614162 -0.202675\n",
       "3  0.487188 -0.887014 -0.205525  0.919636  0.396241\n",
       "4 -0.794613  0.265683  0.277890  0.232709  0.901575\n",
       "5 -1.055073 -0.397801  0.752747 -0.526550  0.069214"
      ],
      "text/html": "<div>\n<style scoped>\n    .dataframe tbody tr th:only-of-type {\n        vertical-align: middle;\n    }\n\n    .dataframe tbody tr th {\n        vertical-align: top;\n    }\n\n    .dataframe thead th {\n        text-align: right;\n    }\n</style>\n<table border=\"1\" class=\"dataframe\">\n  <thead>\n    <tr style=\"text-align: right;\">\n      <th></th>\n      <th>0</th>\n      <th>1</th>\n      <th>2</th>\n      <th>3</th>\n      <th>4</th>\n    </tr>\n  </thead>\n  <tbody>\n    <tr>\n      <th>0</th>\n      <td>0.936806</td>\n      <td>-1.452849</td>\n      <td>1.741717</td>\n      <td>0.823227</td>\n      <td>-0.723457</td>\n    </tr>\n    <tr>\n      <th>1</th>\n      <td>-0.339000</td>\n      <td>1.213192</td>\n      <td>-0.726898</td>\n      <td>0.270291</td>\n      <td>1.381437</td>\n    </tr>\n    <tr>\n      <th>2</th>\n      <td>0.353481</td>\n      <td>0.469215</td>\n      <td>0.924276</td>\n      <td>0.614162</td>\n      <td>-0.202675</td>\n    </tr>\n    <tr>\n      <th>3</th>\n      <td>0.487188</td>\n      <td>-0.887014</td>\n      <td>-0.205525</td>\n      <td>0.919636</td>\n      <td>0.396241</td>\n    </tr>\n    <tr>\n      <th>4</th>\n      <td>-0.794613</td>\n      <td>0.265683</td>\n      <td>0.277890</td>\n      <td>0.232709</td>\n      <td>0.901575</td>\n    </tr>\n    <tr>\n      <th>5</th>\n      <td>-1.055073</td>\n      <td>-0.397801</td>\n      <td>0.752747</td>\n      <td>-0.526550</td>\n      <td>0.069214</td>\n    </tr>\n  </tbody>\n</table>\n</div>"
     },
     "metadata": {},
     "execution_count": 36
    }
   ],
   "source": [
    "from numpy.random import randn\n",
    "df = pd.DataFrame(randn(6,5))\n",
    "df"
   ]
  },
  {
   "cell_type": "code",
   "execution_count": 37,
   "metadata": {},
   "outputs": [
    {
     "output_type": "execute_result",
     "data": {
      "text/plain": [
       "            0         1         2         3         4\n",
       "0    0.936806 -1.452849  1.741717  0.823227 -0.723457\n",
       "1   -0.339000  1.213192 -0.726898  0.270291  1.381437\n",
       "2    0.353481  0.469215  0.924276  0.614162 -0.202675\n",
       "3    0.487188 -0.887014 -0.205525  0.919636  0.396241\n",
       "4   -0.794613  0.265683  0.277890  0.232709  0.901575\n",
       "5   -1.055073 -0.397801  0.752747 -0.526550  0.069214\n",
       "new  1.000000  2.000000  3.000000  4.000000  5.000000"
      ],
      "text/html": "<div>\n<style scoped>\n    .dataframe tbody tr th:only-of-type {\n        vertical-align: middle;\n    }\n\n    .dataframe tbody tr th {\n        vertical-align: top;\n    }\n\n    .dataframe thead th {\n        text-align: right;\n    }\n</style>\n<table border=\"1\" class=\"dataframe\">\n  <thead>\n    <tr style=\"text-align: right;\">\n      <th></th>\n      <th>0</th>\n      <th>1</th>\n      <th>2</th>\n      <th>3</th>\n      <th>4</th>\n    </tr>\n  </thead>\n  <tbody>\n    <tr>\n      <th>0</th>\n      <td>0.936806</td>\n      <td>-1.452849</td>\n      <td>1.741717</td>\n      <td>0.823227</td>\n      <td>-0.723457</td>\n    </tr>\n    <tr>\n      <th>1</th>\n      <td>-0.339000</td>\n      <td>1.213192</td>\n      <td>-0.726898</td>\n      <td>0.270291</td>\n      <td>1.381437</td>\n    </tr>\n    <tr>\n      <th>2</th>\n      <td>0.353481</td>\n      <td>0.469215</td>\n      <td>0.924276</td>\n      <td>0.614162</td>\n      <td>-0.202675</td>\n    </tr>\n    <tr>\n      <th>3</th>\n      <td>0.487188</td>\n      <td>-0.887014</td>\n      <td>-0.205525</td>\n      <td>0.919636</td>\n      <td>0.396241</td>\n    </tr>\n    <tr>\n      <th>4</th>\n      <td>-0.794613</td>\n      <td>0.265683</td>\n      <td>0.277890</td>\n      <td>0.232709</td>\n      <td>0.901575</td>\n    </tr>\n    <tr>\n      <th>5</th>\n      <td>-1.055073</td>\n      <td>-0.397801</td>\n      <td>0.752747</td>\n      <td>-0.526550</td>\n      <td>0.069214</td>\n    </tr>\n    <tr>\n      <th>new</th>\n      <td>1.000000</td>\n      <td>2.000000</td>\n      <td>3.000000</td>\n      <td>4.000000</td>\n      <td>5.000000</td>\n    </tr>\n  </tbody>\n</table>\n</div>"
     },
     "metadata": {},
     "execution_count": 37
    }
   ],
   "source": [
    "df.loc['new']=[1,2,3,4,5]\n",
    "df"
   ]
  },
  {
   "cell_type": "code",
   "execution_count": 38,
   "metadata": {},
   "outputs": [
    {
     "output_type": "execute_result",
     "data": {
      "text/plain": [
       "            0         1         2         3         4      baru\n",
       "0    0.936806 -1.452849  1.741717  0.823227 -0.723457 -0.516043\n",
       "1   -0.339000  1.213192 -0.726898  0.270291  1.381437  0.874192\n",
       "2    0.353481  0.469215  0.924276  0.614162 -0.202675  0.822696\n",
       "3    0.487188 -0.887014 -0.205525  0.919636  0.396241 -0.399826\n",
       "4   -0.794613  0.265683  0.277890  0.232709  0.901575 -0.528930\n",
       "5   -1.055073 -0.397801  0.752747 -0.526550  0.069214 -1.452873\n",
       "new  1.000000  2.000000  3.000000  4.000000  5.000000  3.000000"
      ],
      "text/html": "<div>\n<style scoped>\n    .dataframe tbody tr th:only-of-type {\n        vertical-align: middle;\n    }\n\n    .dataframe tbody tr th {\n        vertical-align: top;\n    }\n\n    .dataframe thead th {\n        text-align: right;\n    }\n</style>\n<table border=\"1\" class=\"dataframe\">\n  <thead>\n    <tr style=\"text-align: right;\">\n      <th></th>\n      <th>0</th>\n      <th>1</th>\n      <th>2</th>\n      <th>3</th>\n      <th>4</th>\n      <th>baru</th>\n    </tr>\n  </thead>\n  <tbody>\n    <tr>\n      <th>0</th>\n      <td>0.936806</td>\n      <td>-1.452849</td>\n      <td>1.741717</td>\n      <td>0.823227</td>\n      <td>-0.723457</td>\n      <td>-0.516043</td>\n    </tr>\n    <tr>\n      <th>1</th>\n      <td>-0.339000</td>\n      <td>1.213192</td>\n      <td>-0.726898</td>\n      <td>0.270291</td>\n      <td>1.381437</td>\n      <td>0.874192</td>\n    </tr>\n    <tr>\n      <th>2</th>\n      <td>0.353481</td>\n      <td>0.469215</td>\n      <td>0.924276</td>\n      <td>0.614162</td>\n      <td>-0.202675</td>\n      <td>0.822696</td>\n    </tr>\n    <tr>\n      <th>3</th>\n      <td>0.487188</td>\n      <td>-0.887014</td>\n      <td>-0.205525</td>\n      <td>0.919636</td>\n      <td>0.396241</td>\n      <td>-0.399826</td>\n    </tr>\n    <tr>\n      <th>4</th>\n      <td>-0.794613</td>\n      <td>0.265683</td>\n      <td>0.277890</td>\n      <td>0.232709</td>\n      <td>0.901575</td>\n      <td>-0.528930</td>\n    </tr>\n    <tr>\n      <th>5</th>\n      <td>-1.055073</td>\n      <td>-0.397801</td>\n      <td>0.752747</td>\n      <td>-0.526550</td>\n      <td>0.069214</td>\n      <td>-1.452873</td>\n    </tr>\n    <tr>\n      <th>new</th>\n      <td>1.000000</td>\n      <td>2.000000</td>\n      <td>3.000000</td>\n      <td>4.000000</td>\n      <td>5.000000</td>\n      <td>3.000000</td>\n    </tr>\n  </tbody>\n</table>\n</div>"
     },
     "metadata": {},
     "execution_count": 38
    }
   ],
   "source": [
    "df['baru'] = df[0] + df[1]\n",
    "df"
   ]
  },
  {
   "cell_type": "code",
   "execution_count": 39,
   "metadata": {},
   "outputs": [],
   "source": [
    "df.insert(1,'new',[1,2,3,4,5,6,7])"
   ]
  },
  {
   "cell_type": "code",
   "execution_count": 40,
   "metadata": {},
   "outputs": [
    {
     "output_type": "execute_result",
     "data": {
      "text/plain": [
       "            0  new         1         2         3         4      baru\n",
       "0    0.936806    1 -1.452849  1.741717  0.823227 -0.723457 -0.516043\n",
       "1   -0.339000    2  1.213192 -0.726898  0.270291  1.381437  0.874192\n",
       "2    0.353481    3  0.469215  0.924276  0.614162 -0.202675  0.822696\n",
       "3    0.487188    4 -0.887014 -0.205525  0.919636  0.396241 -0.399826\n",
       "4   -0.794613    5  0.265683  0.277890  0.232709  0.901575 -0.528930\n",
       "5   -1.055073    6 -0.397801  0.752747 -0.526550  0.069214 -1.452873\n",
       "new  1.000000    7  2.000000  3.000000  4.000000  5.000000  3.000000"
      ],
      "text/html": "<div>\n<style scoped>\n    .dataframe tbody tr th:only-of-type {\n        vertical-align: middle;\n    }\n\n    .dataframe tbody tr th {\n        vertical-align: top;\n    }\n\n    .dataframe thead th {\n        text-align: right;\n    }\n</style>\n<table border=\"1\" class=\"dataframe\">\n  <thead>\n    <tr style=\"text-align: right;\">\n      <th></th>\n      <th>0</th>\n      <th>new</th>\n      <th>1</th>\n      <th>2</th>\n      <th>3</th>\n      <th>4</th>\n      <th>baru</th>\n    </tr>\n  </thead>\n  <tbody>\n    <tr>\n      <th>0</th>\n      <td>0.936806</td>\n      <td>1</td>\n      <td>-1.452849</td>\n      <td>1.741717</td>\n      <td>0.823227</td>\n      <td>-0.723457</td>\n      <td>-0.516043</td>\n    </tr>\n    <tr>\n      <th>1</th>\n      <td>-0.339000</td>\n      <td>2</td>\n      <td>1.213192</td>\n      <td>-0.726898</td>\n      <td>0.270291</td>\n      <td>1.381437</td>\n      <td>0.874192</td>\n    </tr>\n    <tr>\n      <th>2</th>\n      <td>0.353481</td>\n      <td>3</td>\n      <td>0.469215</td>\n      <td>0.924276</td>\n      <td>0.614162</td>\n      <td>-0.202675</td>\n      <td>0.822696</td>\n    </tr>\n    <tr>\n      <th>3</th>\n      <td>0.487188</td>\n      <td>4</td>\n      <td>-0.887014</td>\n      <td>-0.205525</td>\n      <td>0.919636</td>\n      <td>0.396241</td>\n      <td>-0.399826</td>\n    </tr>\n    <tr>\n      <th>4</th>\n      <td>-0.794613</td>\n      <td>5</td>\n      <td>0.265683</td>\n      <td>0.277890</td>\n      <td>0.232709</td>\n      <td>0.901575</td>\n      <td>-0.528930</td>\n    </tr>\n    <tr>\n      <th>5</th>\n      <td>-1.055073</td>\n      <td>6</td>\n      <td>-0.397801</td>\n      <td>0.752747</td>\n      <td>-0.526550</td>\n      <td>0.069214</td>\n      <td>-1.452873</td>\n    </tr>\n    <tr>\n      <th>new</th>\n      <td>1.000000</td>\n      <td>7</td>\n      <td>2.000000</td>\n      <td>3.000000</td>\n      <td>4.000000</td>\n      <td>5.000000</td>\n      <td>3.000000</td>\n    </tr>\n  </tbody>\n</table>\n</div>"
     },
     "metadata": {},
     "execution_count": 40
    }
   ],
   "source": [
    "df"
   ]
  },
  {
   "cell_type": "code",
   "execution_count": 41,
   "metadata": {},
   "outputs": [
    {
     "output_type": "execute_result",
     "data": {
      "text/plain": [
       "            0         1         2         3         4      baru\n",
       "0    0.936806 -1.452849  1.741717  0.823227 -0.723457 -0.516043\n",
       "1   -0.339000  1.213192 -0.726898  0.270291  1.381437  0.874192\n",
       "2    0.353481  0.469215  0.924276  0.614162 -0.202675  0.822696\n",
       "3    0.487188 -0.887014 -0.205525  0.919636  0.396241 -0.399826\n",
       "4   -0.794613  0.265683  0.277890  0.232709  0.901575 -0.528930\n",
       "5   -1.055073 -0.397801  0.752747 -0.526550  0.069214 -1.452873\n",
       "new  1.000000  2.000000  3.000000  4.000000  5.000000  3.000000"
      ],
      "text/html": "<div>\n<style scoped>\n    .dataframe tbody tr th:only-of-type {\n        vertical-align: middle;\n    }\n\n    .dataframe tbody tr th {\n        vertical-align: top;\n    }\n\n    .dataframe thead th {\n        text-align: right;\n    }\n</style>\n<table border=\"1\" class=\"dataframe\">\n  <thead>\n    <tr style=\"text-align: right;\">\n      <th></th>\n      <th>0</th>\n      <th>1</th>\n      <th>2</th>\n      <th>3</th>\n      <th>4</th>\n      <th>baru</th>\n    </tr>\n  </thead>\n  <tbody>\n    <tr>\n      <th>0</th>\n      <td>0.936806</td>\n      <td>-1.452849</td>\n      <td>1.741717</td>\n      <td>0.823227</td>\n      <td>-0.723457</td>\n      <td>-0.516043</td>\n    </tr>\n    <tr>\n      <th>1</th>\n      <td>-0.339000</td>\n      <td>1.213192</td>\n      <td>-0.726898</td>\n      <td>0.270291</td>\n      <td>1.381437</td>\n      <td>0.874192</td>\n    </tr>\n    <tr>\n      <th>2</th>\n      <td>0.353481</td>\n      <td>0.469215</td>\n      <td>0.924276</td>\n      <td>0.614162</td>\n      <td>-0.202675</td>\n      <td>0.822696</td>\n    </tr>\n    <tr>\n      <th>3</th>\n      <td>0.487188</td>\n      <td>-0.887014</td>\n      <td>-0.205525</td>\n      <td>0.919636</td>\n      <td>0.396241</td>\n      <td>-0.399826</td>\n    </tr>\n    <tr>\n      <th>4</th>\n      <td>-0.794613</td>\n      <td>0.265683</td>\n      <td>0.277890</td>\n      <td>0.232709</td>\n      <td>0.901575</td>\n      <td>-0.528930</td>\n    </tr>\n    <tr>\n      <th>5</th>\n      <td>-1.055073</td>\n      <td>-0.397801</td>\n      <td>0.752747</td>\n      <td>-0.526550</td>\n      <td>0.069214</td>\n      <td>-1.452873</td>\n    </tr>\n    <tr>\n      <th>new</th>\n      <td>1.000000</td>\n      <td>2.000000</td>\n      <td>3.000000</td>\n      <td>4.000000</td>\n      <td>5.000000</td>\n      <td>3.000000</td>\n    </tr>\n  </tbody>\n</table>\n</div>"
     },
     "metadata": {},
     "execution_count": 41
    }
   ],
   "source": [
    "df.drop('new',axis=1)"
   ]
  },
  {
   "cell_type": "code",
   "execution_count": 42,
   "metadata": {},
   "outputs": [
    {
     "output_type": "execute_result",
     "data": {
      "text/plain": [
       "            0  new         1         2         3         4      baru\n",
       "0    0.936806    1 -1.452849  1.741717  0.823227 -0.723457 -0.516043\n",
       "1   -0.339000    2  1.213192 -0.726898  0.270291  1.381437  0.874192\n",
       "2    0.353481    3  0.469215  0.924276  0.614162 -0.202675  0.822696\n",
       "3    0.487188    4 -0.887014 -0.205525  0.919636  0.396241 -0.399826\n",
       "4   -0.794613    5  0.265683  0.277890  0.232709  0.901575 -0.528930\n",
       "5   -1.055073    6 -0.397801  0.752747 -0.526550  0.069214 -1.452873\n",
       "new  1.000000    7  2.000000  3.000000  4.000000  5.000000  3.000000"
      ],
      "text/html": "<div>\n<style scoped>\n    .dataframe tbody tr th:only-of-type {\n        vertical-align: middle;\n    }\n\n    .dataframe tbody tr th {\n        vertical-align: top;\n    }\n\n    .dataframe thead th {\n        text-align: right;\n    }\n</style>\n<table border=\"1\" class=\"dataframe\">\n  <thead>\n    <tr style=\"text-align: right;\">\n      <th></th>\n      <th>0</th>\n      <th>new</th>\n      <th>1</th>\n      <th>2</th>\n      <th>3</th>\n      <th>4</th>\n      <th>baru</th>\n    </tr>\n  </thead>\n  <tbody>\n    <tr>\n      <th>0</th>\n      <td>0.936806</td>\n      <td>1</td>\n      <td>-1.452849</td>\n      <td>1.741717</td>\n      <td>0.823227</td>\n      <td>-0.723457</td>\n      <td>-0.516043</td>\n    </tr>\n    <tr>\n      <th>1</th>\n      <td>-0.339000</td>\n      <td>2</td>\n      <td>1.213192</td>\n      <td>-0.726898</td>\n      <td>0.270291</td>\n      <td>1.381437</td>\n      <td>0.874192</td>\n    </tr>\n    <tr>\n      <th>2</th>\n      <td>0.353481</td>\n      <td>3</td>\n      <td>0.469215</td>\n      <td>0.924276</td>\n      <td>0.614162</td>\n      <td>-0.202675</td>\n      <td>0.822696</td>\n    </tr>\n    <tr>\n      <th>3</th>\n      <td>0.487188</td>\n      <td>4</td>\n      <td>-0.887014</td>\n      <td>-0.205525</td>\n      <td>0.919636</td>\n      <td>0.396241</td>\n      <td>-0.399826</td>\n    </tr>\n    <tr>\n      <th>4</th>\n      <td>-0.794613</td>\n      <td>5</td>\n      <td>0.265683</td>\n      <td>0.277890</td>\n      <td>0.232709</td>\n      <td>0.901575</td>\n      <td>-0.528930</td>\n    </tr>\n    <tr>\n      <th>5</th>\n      <td>-1.055073</td>\n      <td>6</td>\n      <td>-0.397801</td>\n      <td>0.752747</td>\n      <td>-0.526550</td>\n      <td>0.069214</td>\n      <td>-1.452873</td>\n    </tr>\n    <tr>\n      <th>new</th>\n      <td>1.000000</td>\n      <td>7</td>\n      <td>2.000000</td>\n      <td>3.000000</td>\n      <td>4.000000</td>\n      <td>5.000000</td>\n      <td>3.000000</td>\n    </tr>\n  </tbody>\n</table>\n</div>"
     },
     "metadata": {},
     "execution_count": 42
    }
   ],
   "source": [
    "df"
   ]
  },
  {
   "cell_type": "code",
   "execution_count": 43,
   "metadata": {},
   "outputs": [],
   "source": [
    "df.drop('new',axis=1,inplace=True)"
   ]
  },
  {
   "cell_type": "code",
   "execution_count": 44,
   "metadata": {},
   "outputs": [
    {
     "output_type": "execute_result",
     "data": {
      "text/plain": [
       "            0         1         2         3         4      baru\n",
       "0    0.936806 -1.452849  1.741717  0.823227 -0.723457 -0.516043\n",
       "1   -0.339000  1.213192 -0.726898  0.270291  1.381437  0.874192\n",
       "2    0.353481  0.469215  0.924276  0.614162 -0.202675  0.822696\n",
       "3    0.487188 -0.887014 -0.205525  0.919636  0.396241 -0.399826\n",
       "4   -0.794613  0.265683  0.277890  0.232709  0.901575 -0.528930\n",
       "5   -1.055073 -0.397801  0.752747 -0.526550  0.069214 -1.452873\n",
       "new  1.000000  2.000000  3.000000  4.000000  5.000000  3.000000"
      ],
      "text/html": "<div>\n<style scoped>\n    .dataframe tbody tr th:only-of-type {\n        vertical-align: middle;\n    }\n\n    .dataframe tbody tr th {\n        vertical-align: top;\n    }\n\n    .dataframe thead th {\n        text-align: right;\n    }\n</style>\n<table border=\"1\" class=\"dataframe\">\n  <thead>\n    <tr style=\"text-align: right;\">\n      <th></th>\n      <th>0</th>\n      <th>1</th>\n      <th>2</th>\n      <th>3</th>\n      <th>4</th>\n      <th>baru</th>\n    </tr>\n  </thead>\n  <tbody>\n    <tr>\n      <th>0</th>\n      <td>0.936806</td>\n      <td>-1.452849</td>\n      <td>1.741717</td>\n      <td>0.823227</td>\n      <td>-0.723457</td>\n      <td>-0.516043</td>\n    </tr>\n    <tr>\n      <th>1</th>\n      <td>-0.339000</td>\n      <td>1.213192</td>\n      <td>-0.726898</td>\n      <td>0.270291</td>\n      <td>1.381437</td>\n      <td>0.874192</td>\n    </tr>\n    <tr>\n      <th>2</th>\n      <td>0.353481</td>\n      <td>0.469215</td>\n      <td>0.924276</td>\n      <td>0.614162</td>\n      <td>-0.202675</td>\n      <td>0.822696</td>\n    </tr>\n    <tr>\n      <th>3</th>\n      <td>0.487188</td>\n      <td>-0.887014</td>\n      <td>-0.205525</td>\n      <td>0.919636</td>\n      <td>0.396241</td>\n      <td>-0.399826</td>\n    </tr>\n    <tr>\n      <th>4</th>\n      <td>-0.794613</td>\n      <td>0.265683</td>\n      <td>0.277890</td>\n      <td>0.232709</td>\n      <td>0.901575</td>\n      <td>-0.528930</td>\n    </tr>\n    <tr>\n      <th>5</th>\n      <td>-1.055073</td>\n      <td>-0.397801</td>\n      <td>0.752747</td>\n      <td>-0.526550</td>\n      <td>0.069214</td>\n      <td>-1.452873</td>\n    </tr>\n    <tr>\n      <th>new</th>\n      <td>1.000000</td>\n      <td>2.000000</td>\n      <td>3.000000</td>\n      <td>4.000000</td>\n      <td>5.000000</td>\n      <td>3.000000</td>\n    </tr>\n  </tbody>\n</table>\n</div>"
     },
     "metadata": {},
     "execution_count": 44
    }
   ],
   "source": [
    "df"
   ]
  },
  {
   "cell_type": "code",
   "execution_count": 47,
   "metadata": {},
   "outputs": [
    {
     "output_type": "execute_result",
     "data": {
      "text/plain": [
       "          0         1         2         3         4      baru\n",
       "0  0.936806 -1.452849  1.741717  0.823227 -0.723457 -0.516043\n",
       "1 -0.339000  1.213192 -0.726898  0.270291  1.381437  0.874192\n",
       "2  0.353481  0.469215  0.924276  0.614162 -0.202675  0.822696\n",
       "3  0.487188 -0.887014 -0.205525  0.919636  0.396241 -0.399826\n",
       "4 -0.794613  0.265683  0.277890  0.232709  0.901575 -0.528930\n",
       "5 -1.055073 -0.397801  0.752747 -0.526550  0.069214 -1.452873"
      ],
      "text/html": "<div>\n<style scoped>\n    .dataframe tbody tr th:only-of-type {\n        vertical-align: middle;\n    }\n\n    .dataframe tbody tr th {\n        vertical-align: top;\n    }\n\n    .dataframe thead th {\n        text-align: right;\n    }\n</style>\n<table border=\"1\" class=\"dataframe\">\n  <thead>\n    <tr style=\"text-align: right;\">\n      <th></th>\n      <th>0</th>\n      <th>1</th>\n      <th>2</th>\n      <th>3</th>\n      <th>4</th>\n      <th>baru</th>\n    </tr>\n  </thead>\n  <tbody>\n    <tr>\n      <th>0</th>\n      <td>0.936806</td>\n      <td>-1.452849</td>\n      <td>1.741717</td>\n      <td>0.823227</td>\n      <td>-0.723457</td>\n      <td>-0.516043</td>\n    </tr>\n    <tr>\n      <th>1</th>\n      <td>-0.339000</td>\n      <td>1.213192</td>\n      <td>-0.726898</td>\n      <td>0.270291</td>\n      <td>1.381437</td>\n      <td>0.874192</td>\n    </tr>\n    <tr>\n      <th>2</th>\n      <td>0.353481</td>\n      <td>0.469215</td>\n      <td>0.924276</td>\n      <td>0.614162</td>\n      <td>-0.202675</td>\n      <td>0.822696</td>\n    </tr>\n    <tr>\n      <th>3</th>\n      <td>0.487188</td>\n      <td>-0.887014</td>\n      <td>-0.205525</td>\n      <td>0.919636</td>\n      <td>0.396241</td>\n      <td>-0.399826</td>\n    </tr>\n    <tr>\n      <th>4</th>\n      <td>-0.794613</td>\n      <td>0.265683</td>\n      <td>0.277890</td>\n      <td>0.232709</td>\n      <td>0.901575</td>\n      <td>-0.528930</td>\n    </tr>\n    <tr>\n      <th>5</th>\n      <td>-1.055073</td>\n      <td>-0.397801</td>\n      <td>0.752747</td>\n      <td>-0.526550</td>\n      <td>0.069214</td>\n      <td>-1.452873</td>\n    </tr>\n  </tbody>\n</table>\n</div>"
     },
     "metadata": {},
     "execution_count": 47
    }
   ],
   "source": [
    "df.drop('new',axis=0)"
   ]
  },
  {
   "cell_type": "code",
   "execution_count": 48,
   "metadata": {},
   "outputs": [
    {
     "output_type": "execute_result",
     "data": {
      "text/plain": [
       "            0         1         2         3         4      baru\n",
       "0    0.936806 -1.452849  1.741717  0.823227 -0.723457 -0.516043\n",
       "1   -0.339000  1.213192 -0.726898  0.270291  1.381437  0.874192\n",
       "2    0.353481  0.469215  0.924276  0.614162 -0.202675  0.822696\n",
       "3    0.487188 -0.887014 -0.205525  0.919636  0.396241 -0.399826\n",
       "4   -0.794613  0.265683  0.277890  0.232709  0.901575 -0.528930\n",
       "5   -1.055073 -0.397801  0.752747 -0.526550  0.069214 -1.452873\n",
       "new  1.000000  2.000000  3.000000  4.000000  5.000000  3.000000"
      ],
      "text/html": "<div>\n<style scoped>\n    .dataframe tbody tr th:only-of-type {\n        vertical-align: middle;\n    }\n\n    .dataframe tbody tr th {\n        vertical-align: top;\n    }\n\n    .dataframe thead th {\n        text-align: right;\n    }\n</style>\n<table border=\"1\" class=\"dataframe\">\n  <thead>\n    <tr style=\"text-align: right;\">\n      <th></th>\n      <th>0</th>\n      <th>1</th>\n      <th>2</th>\n      <th>3</th>\n      <th>4</th>\n      <th>baru</th>\n    </tr>\n  </thead>\n  <tbody>\n    <tr>\n      <th>0</th>\n      <td>0.936806</td>\n      <td>-1.452849</td>\n      <td>1.741717</td>\n      <td>0.823227</td>\n      <td>-0.723457</td>\n      <td>-0.516043</td>\n    </tr>\n    <tr>\n      <th>1</th>\n      <td>-0.339000</td>\n      <td>1.213192</td>\n      <td>-0.726898</td>\n      <td>0.270291</td>\n      <td>1.381437</td>\n      <td>0.874192</td>\n    </tr>\n    <tr>\n      <th>2</th>\n      <td>0.353481</td>\n      <td>0.469215</td>\n      <td>0.924276</td>\n      <td>0.614162</td>\n      <td>-0.202675</td>\n      <td>0.822696</td>\n    </tr>\n    <tr>\n      <th>3</th>\n      <td>0.487188</td>\n      <td>-0.887014</td>\n      <td>-0.205525</td>\n      <td>0.919636</td>\n      <td>0.396241</td>\n      <td>-0.399826</td>\n    </tr>\n    <tr>\n      <th>4</th>\n      <td>-0.794613</td>\n      <td>0.265683</td>\n      <td>0.277890</td>\n      <td>0.232709</td>\n      <td>0.901575</td>\n      <td>-0.528930</td>\n    </tr>\n    <tr>\n      <th>5</th>\n      <td>-1.055073</td>\n      <td>-0.397801</td>\n      <td>0.752747</td>\n      <td>-0.526550</td>\n      <td>0.069214</td>\n      <td>-1.452873</td>\n    </tr>\n    <tr>\n      <th>new</th>\n      <td>1.000000</td>\n      <td>2.000000</td>\n      <td>3.000000</td>\n      <td>4.000000</td>\n      <td>5.000000</td>\n      <td>3.000000</td>\n    </tr>\n  </tbody>\n</table>\n</div>"
     },
     "metadata": {},
     "execution_count": 48
    }
   ],
   "source": [
    "df"
   ]
  },
  {
   "cell_type": "code",
   "execution_count": 49,
   "metadata": {},
   "outputs": [
    {
     "output_type": "execute_result",
     "data": {
      "text/plain": [
       "  index         0         1         2         3         4      baru\n",
       "0     0  0.936806 -1.452849  1.741717  0.823227 -0.723457 -0.516043\n",
       "1     1 -0.339000  1.213192 -0.726898  0.270291  1.381437  0.874192\n",
       "2     2  0.353481  0.469215  0.924276  0.614162 -0.202675  0.822696\n",
       "3     3  0.487188 -0.887014 -0.205525  0.919636  0.396241 -0.399826\n",
       "4     4 -0.794613  0.265683  0.277890  0.232709  0.901575 -0.528930\n",
       "5     5 -1.055073 -0.397801  0.752747 -0.526550  0.069214 -1.452873\n",
       "6   new  1.000000  2.000000  3.000000  4.000000  5.000000  3.000000"
      ],
      "text/html": "<div>\n<style scoped>\n    .dataframe tbody tr th:only-of-type {\n        vertical-align: middle;\n    }\n\n    .dataframe tbody tr th {\n        vertical-align: top;\n    }\n\n    .dataframe thead th {\n        text-align: right;\n    }\n</style>\n<table border=\"1\" class=\"dataframe\">\n  <thead>\n    <tr style=\"text-align: right;\">\n      <th></th>\n      <th>index</th>\n      <th>0</th>\n      <th>1</th>\n      <th>2</th>\n      <th>3</th>\n      <th>4</th>\n      <th>baru</th>\n    </tr>\n  </thead>\n  <tbody>\n    <tr>\n      <th>0</th>\n      <td>0</td>\n      <td>0.936806</td>\n      <td>-1.452849</td>\n      <td>1.741717</td>\n      <td>0.823227</td>\n      <td>-0.723457</td>\n      <td>-0.516043</td>\n    </tr>\n    <tr>\n      <th>1</th>\n      <td>1</td>\n      <td>-0.339000</td>\n      <td>1.213192</td>\n      <td>-0.726898</td>\n      <td>0.270291</td>\n      <td>1.381437</td>\n      <td>0.874192</td>\n    </tr>\n    <tr>\n      <th>2</th>\n      <td>2</td>\n      <td>0.353481</td>\n      <td>0.469215</td>\n      <td>0.924276</td>\n      <td>0.614162</td>\n      <td>-0.202675</td>\n      <td>0.822696</td>\n    </tr>\n    <tr>\n      <th>3</th>\n      <td>3</td>\n      <td>0.487188</td>\n      <td>-0.887014</td>\n      <td>-0.205525</td>\n      <td>0.919636</td>\n      <td>0.396241</td>\n      <td>-0.399826</td>\n    </tr>\n    <tr>\n      <th>4</th>\n      <td>4</td>\n      <td>-0.794613</td>\n      <td>0.265683</td>\n      <td>0.277890</td>\n      <td>0.232709</td>\n      <td>0.901575</td>\n      <td>-0.528930</td>\n    </tr>\n    <tr>\n      <th>5</th>\n      <td>5</td>\n      <td>-1.055073</td>\n      <td>-0.397801</td>\n      <td>0.752747</td>\n      <td>-0.526550</td>\n      <td>0.069214</td>\n      <td>-1.452873</td>\n    </tr>\n    <tr>\n      <th>6</th>\n      <td>new</td>\n      <td>1.000000</td>\n      <td>2.000000</td>\n      <td>3.000000</td>\n      <td>4.000000</td>\n      <td>5.000000</td>\n      <td>3.000000</td>\n    </tr>\n  </tbody>\n</table>\n</div>"
     },
     "metadata": {},
     "execution_count": 49
    }
   ],
   "source": [
    "df.reset_index()"
   ]
  },
  {
   "cell_type": "code",
   "execution_count": 56,
   "metadata": {},
   "outputs": [
    {
     "output_type": "execute_result",
     "data": {
      "text/plain": [
       "['aa', 'bb', 'cc', 'dd', 'ee', 'ff', 'gg']"
      ]
     },
     "metadata": {},
     "execution_count": 56
    }
   ],
   "source": [
    "newind = 'aa bb cc dd ee ff gg'.split()\n",
    "newind"
   ]
  },
  {
   "cell_type": "code",
   "execution_count": 57,
   "metadata": {},
   "outputs": [],
   "source": [
    "df['baru'] = newind"
   ]
  },
  {
   "cell_type": "code",
   "execution_count": 58,
   "metadata": {},
   "outputs": [
    {
     "output_type": "execute_result",
     "data": {
      "text/plain": [
       "            0         1         2         3         4 baru\n",
       "0    0.936806 -1.452849  1.741717  0.823227 -0.723457   aa\n",
       "1   -0.339000  1.213192 -0.726898  0.270291  1.381437   bb\n",
       "2    0.353481  0.469215  0.924276  0.614162 -0.202675   cc\n",
       "3    0.487188 -0.887014 -0.205525  0.919636  0.396241   dd\n",
       "4   -0.794613  0.265683  0.277890  0.232709  0.901575   ee\n",
       "5   -1.055073 -0.397801  0.752747 -0.526550  0.069214   ff\n",
       "new  1.000000  2.000000  3.000000  4.000000  5.000000   gg"
      ],
      "text/html": "<div>\n<style scoped>\n    .dataframe tbody tr th:only-of-type {\n        vertical-align: middle;\n    }\n\n    .dataframe tbody tr th {\n        vertical-align: top;\n    }\n\n    .dataframe thead th {\n        text-align: right;\n    }\n</style>\n<table border=\"1\" class=\"dataframe\">\n  <thead>\n    <tr style=\"text-align: right;\">\n      <th></th>\n      <th>0</th>\n      <th>1</th>\n      <th>2</th>\n      <th>3</th>\n      <th>4</th>\n      <th>baru</th>\n    </tr>\n  </thead>\n  <tbody>\n    <tr>\n      <th>0</th>\n      <td>0.936806</td>\n      <td>-1.452849</td>\n      <td>1.741717</td>\n      <td>0.823227</td>\n      <td>-0.723457</td>\n      <td>aa</td>\n    </tr>\n    <tr>\n      <th>1</th>\n      <td>-0.339000</td>\n      <td>1.213192</td>\n      <td>-0.726898</td>\n      <td>0.270291</td>\n      <td>1.381437</td>\n      <td>bb</td>\n    </tr>\n    <tr>\n      <th>2</th>\n      <td>0.353481</td>\n      <td>0.469215</td>\n      <td>0.924276</td>\n      <td>0.614162</td>\n      <td>-0.202675</td>\n      <td>cc</td>\n    </tr>\n    <tr>\n      <th>3</th>\n      <td>0.487188</td>\n      <td>-0.887014</td>\n      <td>-0.205525</td>\n      <td>0.919636</td>\n      <td>0.396241</td>\n      <td>dd</td>\n    </tr>\n    <tr>\n      <th>4</th>\n      <td>-0.794613</td>\n      <td>0.265683</td>\n      <td>0.277890</td>\n      <td>0.232709</td>\n      <td>0.901575</td>\n      <td>ee</td>\n    </tr>\n    <tr>\n      <th>5</th>\n      <td>-1.055073</td>\n      <td>-0.397801</td>\n      <td>0.752747</td>\n      <td>-0.526550</td>\n      <td>0.069214</td>\n      <td>ff</td>\n    </tr>\n    <tr>\n      <th>new</th>\n      <td>1.000000</td>\n      <td>2.000000</td>\n      <td>3.000000</td>\n      <td>4.000000</td>\n      <td>5.000000</td>\n      <td>gg</td>\n    </tr>\n  </tbody>\n</table>\n</div>"
     },
     "metadata": {},
     "execution_count": 58
    }
   ],
   "source": [
    "df"
   ]
  },
  {
   "cell_type": "code",
   "execution_count": 59,
   "metadata": {},
   "outputs": [
    {
     "output_type": "execute_result",
     "data": {
      "text/plain": [
       "             0         1         2         3         4\n",
       "baru                                                  \n",
       "aa    0.936806 -1.452849  1.741717  0.823227 -0.723457\n",
       "bb   -0.339000  1.213192 -0.726898  0.270291  1.381437\n",
       "cc    0.353481  0.469215  0.924276  0.614162 -0.202675\n",
       "dd    0.487188 -0.887014 -0.205525  0.919636  0.396241\n",
       "ee   -0.794613  0.265683  0.277890  0.232709  0.901575\n",
       "ff   -1.055073 -0.397801  0.752747 -0.526550  0.069214\n",
       "gg    1.000000  2.000000  3.000000  4.000000  5.000000"
      ],
      "text/html": "<div>\n<style scoped>\n    .dataframe tbody tr th:only-of-type {\n        vertical-align: middle;\n    }\n\n    .dataframe tbody tr th {\n        vertical-align: top;\n    }\n\n    .dataframe thead th {\n        text-align: right;\n    }\n</style>\n<table border=\"1\" class=\"dataframe\">\n  <thead>\n    <tr style=\"text-align: right;\">\n      <th></th>\n      <th>0</th>\n      <th>1</th>\n      <th>2</th>\n      <th>3</th>\n      <th>4</th>\n    </tr>\n    <tr>\n      <th>baru</th>\n      <th></th>\n      <th></th>\n      <th></th>\n      <th></th>\n      <th></th>\n    </tr>\n  </thead>\n  <tbody>\n    <tr>\n      <th>aa</th>\n      <td>0.936806</td>\n      <td>-1.452849</td>\n      <td>1.741717</td>\n      <td>0.823227</td>\n      <td>-0.723457</td>\n    </tr>\n    <tr>\n      <th>bb</th>\n      <td>-0.339000</td>\n      <td>1.213192</td>\n      <td>-0.726898</td>\n      <td>0.270291</td>\n      <td>1.381437</td>\n    </tr>\n    <tr>\n      <th>cc</th>\n      <td>0.353481</td>\n      <td>0.469215</td>\n      <td>0.924276</td>\n      <td>0.614162</td>\n      <td>-0.202675</td>\n    </tr>\n    <tr>\n      <th>dd</th>\n      <td>0.487188</td>\n      <td>-0.887014</td>\n      <td>-0.205525</td>\n      <td>0.919636</td>\n      <td>0.396241</td>\n    </tr>\n    <tr>\n      <th>ee</th>\n      <td>-0.794613</td>\n      <td>0.265683</td>\n      <td>0.277890</td>\n      <td>0.232709</td>\n      <td>0.901575</td>\n    </tr>\n    <tr>\n      <th>ff</th>\n      <td>-1.055073</td>\n      <td>-0.397801</td>\n      <td>0.752747</td>\n      <td>-0.526550</td>\n      <td>0.069214</td>\n    </tr>\n    <tr>\n      <th>gg</th>\n      <td>1.000000</td>\n      <td>2.000000</td>\n      <td>3.000000</td>\n      <td>4.000000</td>\n      <td>5.000000</td>\n    </tr>\n  </tbody>\n</table>\n</div>"
     },
     "metadata": {},
     "execution_count": 59
    }
   ],
   "source": [
    "df.set_index('baru')"
   ]
  },
  {
   "cell_type": "code",
   "execution_count": 60,
   "metadata": {},
   "outputs": [
    {
     "output_type": "execute_result",
     "data": {
      "text/plain": [
       "            0         1         2         3         4 baru\n",
       "0    0.936806 -1.452849  1.741717  0.823227 -0.723457   aa\n",
       "1   -0.339000  1.213192 -0.726898  0.270291  1.381437   bb\n",
       "2    0.353481  0.469215  0.924276  0.614162 -0.202675   cc\n",
       "3    0.487188 -0.887014 -0.205525  0.919636  0.396241   dd\n",
       "4   -0.794613  0.265683  0.277890  0.232709  0.901575   ee\n",
       "5   -1.055073 -0.397801  0.752747 -0.526550  0.069214   ff\n",
       "new  1.000000  2.000000  3.000000  4.000000  5.000000   gg"
      ],
      "text/html": "<div>\n<style scoped>\n    .dataframe tbody tr th:only-of-type {\n        vertical-align: middle;\n    }\n\n    .dataframe tbody tr th {\n        vertical-align: top;\n    }\n\n    .dataframe thead th {\n        text-align: right;\n    }\n</style>\n<table border=\"1\" class=\"dataframe\">\n  <thead>\n    <tr style=\"text-align: right;\">\n      <th></th>\n      <th>0</th>\n      <th>1</th>\n      <th>2</th>\n      <th>3</th>\n      <th>4</th>\n      <th>baru</th>\n    </tr>\n  </thead>\n  <tbody>\n    <tr>\n      <th>0</th>\n      <td>0.936806</td>\n      <td>-1.452849</td>\n      <td>1.741717</td>\n      <td>0.823227</td>\n      <td>-0.723457</td>\n      <td>aa</td>\n    </tr>\n    <tr>\n      <th>1</th>\n      <td>-0.339000</td>\n      <td>1.213192</td>\n      <td>-0.726898</td>\n      <td>0.270291</td>\n      <td>1.381437</td>\n      <td>bb</td>\n    </tr>\n    <tr>\n      <th>2</th>\n      <td>0.353481</td>\n      <td>0.469215</td>\n      <td>0.924276</td>\n      <td>0.614162</td>\n      <td>-0.202675</td>\n      <td>cc</td>\n    </tr>\n    <tr>\n      <th>3</th>\n      <td>0.487188</td>\n      <td>-0.887014</td>\n      <td>-0.205525</td>\n      <td>0.919636</td>\n      <td>0.396241</td>\n      <td>dd</td>\n    </tr>\n    <tr>\n      <th>4</th>\n      <td>-0.794613</td>\n      <td>0.265683</td>\n      <td>0.277890</td>\n      <td>0.232709</td>\n      <td>0.901575</td>\n      <td>ee</td>\n    </tr>\n    <tr>\n      <th>5</th>\n      <td>-1.055073</td>\n      <td>-0.397801</td>\n      <td>0.752747</td>\n      <td>-0.526550</td>\n      <td>0.069214</td>\n      <td>ff</td>\n    </tr>\n    <tr>\n      <th>new</th>\n      <td>1.000000</td>\n      <td>2.000000</td>\n      <td>3.000000</td>\n      <td>4.000000</td>\n      <td>5.000000</td>\n      <td>gg</td>\n    </tr>\n  </tbody>\n</table>\n</div>"
     },
     "metadata": {},
     "execution_count": 60
    }
   ],
   "source": [
    "df"
   ]
  },
  {
   "cell_type": "code",
   "execution_count": 61,
   "metadata": {},
   "outputs": [],
   "source": [
    "df.set_index('baru',inplace=True)"
   ]
  },
  {
   "cell_type": "code",
   "execution_count": 62,
   "metadata": {},
   "outputs": [
    {
     "output_type": "execute_result",
     "data": {
      "text/plain": [
       "             0         1         2         3         4\n",
       "baru                                                  \n",
       "aa    0.936806 -1.452849  1.741717  0.823227 -0.723457\n",
       "bb   -0.339000  1.213192 -0.726898  0.270291  1.381437\n",
       "cc    0.353481  0.469215  0.924276  0.614162 -0.202675\n",
       "dd    0.487188 -0.887014 -0.205525  0.919636  0.396241\n",
       "ee   -0.794613  0.265683  0.277890  0.232709  0.901575\n",
       "ff   -1.055073 -0.397801  0.752747 -0.526550  0.069214\n",
       "gg    1.000000  2.000000  3.000000  4.000000  5.000000"
      ],
      "text/html": "<div>\n<style scoped>\n    .dataframe tbody tr th:only-of-type {\n        vertical-align: middle;\n    }\n\n    .dataframe tbody tr th {\n        vertical-align: top;\n    }\n\n    .dataframe thead th {\n        text-align: right;\n    }\n</style>\n<table border=\"1\" class=\"dataframe\">\n  <thead>\n    <tr style=\"text-align: right;\">\n      <th></th>\n      <th>0</th>\n      <th>1</th>\n      <th>2</th>\n      <th>3</th>\n      <th>4</th>\n    </tr>\n    <tr>\n      <th>baru</th>\n      <th></th>\n      <th></th>\n      <th></th>\n      <th></th>\n      <th></th>\n    </tr>\n  </thead>\n  <tbody>\n    <tr>\n      <th>aa</th>\n      <td>0.936806</td>\n      <td>-1.452849</td>\n      <td>1.741717</td>\n      <td>0.823227</td>\n      <td>-0.723457</td>\n    </tr>\n    <tr>\n      <th>bb</th>\n      <td>-0.339000</td>\n      <td>1.213192</td>\n      <td>-0.726898</td>\n      <td>0.270291</td>\n      <td>1.381437</td>\n    </tr>\n    <tr>\n      <th>cc</th>\n      <td>0.353481</td>\n      <td>0.469215</td>\n      <td>0.924276</td>\n      <td>0.614162</td>\n      <td>-0.202675</td>\n    </tr>\n    <tr>\n      <th>dd</th>\n      <td>0.487188</td>\n      <td>-0.887014</td>\n      <td>-0.205525</td>\n      <td>0.919636</td>\n      <td>0.396241</td>\n    </tr>\n    <tr>\n      <th>ee</th>\n      <td>-0.794613</td>\n      <td>0.265683</td>\n      <td>0.277890</td>\n      <td>0.232709</td>\n      <td>0.901575</td>\n    </tr>\n    <tr>\n      <th>ff</th>\n      <td>-1.055073</td>\n      <td>-0.397801</td>\n      <td>0.752747</td>\n      <td>-0.526550</td>\n      <td>0.069214</td>\n    </tr>\n    <tr>\n      <th>gg</th>\n      <td>1.000000</td>\n      <td>2.000000</td>\n      <td>3.000000</td>\n      <td>4.000000</td>\n      <td>5.000000</td>\n    </tr>\n  </tbody>\n</table>\n</div>"
     },
     "metadata": {},
     "execution_count": 62
    }
   ],
   "source": [
    "df"
   ]
  },
  {
   "cell_type": "code",
   "execution_count": null,
   "metadata": {},
   "outputs": [],
   "source": []
  }
 ]
}